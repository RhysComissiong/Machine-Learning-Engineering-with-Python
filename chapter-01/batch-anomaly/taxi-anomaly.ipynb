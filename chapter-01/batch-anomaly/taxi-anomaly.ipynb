{
 "cells": [
  {
   "cell_type": "code",
   "execution_count": 1,
   "id": "9616c57e",
   "metadata": {},
   "outputs": [],
   "source": [
    "import numpy as np\n",
    "import pandas as pd\n",
    "import datetime\n",
    "import matplotlib.pyplot as plt"
   ]
  },
  {
   "cell_type": "code",
   "execution_count": 2,
   "id": "3bd1734c",
   "metadata": {},
   "outputs": [],
   "source": [
    "def simulate_ride_distances():\n",
    "    ride_dists = np.concatenate(\n",
    "        (\n",
    "            10*np.random.random(size=370),\n",
    "            30*np.random.random(size=10),\n",
    "            10*np.random.random(size=10),\n",
    "            10*np.random.random(size=10)\n",
    "        )\n",
    "    )\n",
    "    return ride_dists"
   ]
  },
  {
   "cell_type": "code",
   "execution_count": 3,
   "id": "8dca859d",
   "metadata": {},
   "outputs": [],
   "source": [
    "def simulate_ride_speeds():\n",
    "    ride_speeds = np.concatenate(\n",
    "        (\n",
    "            np.random.normal(loc=30, scale=5, size=370),\n",
    "            np.random.normal(loc=30, scale=5, size=10),\n",
    "            np.random.normal(loc=50, scale=10, size=10),\n",
    "            np.random.normal(loc=15, scale=4, size=10)\n",
    "        )\n",
    "    )\n",
    "    return ride_speeds"
   ]
  },
  {
   "cell_type": "code",
   "execution_count": 4,
   "id": "5e6a6a48",
   "metadata": {},
   "outputs": [],
   "source": [
    "def simulate_ride_data():\n",
    "    ride_dists = simulate_ride_distances()\n",
    "    ride_speeds = simulate_ride_speeds()\n",
    "    ride_times = ride_dists/ride_speeds\n",
    "    \n",
    "    # Assemble into Data Frame\n",
    "    df = pd.DataFrame(\n",
    "        {\n",
    "            'ride_dist': ride_dists,\n",
    "            'ride_time': ride_times,\n",
    "            'ride_speed': ride_speeds\n",
    "        }\n",
    "    )\n",
    "    ride_ids = datetime.datetime.now().strftime(\"%Y%m%d\")+df.index.astype(str)\n",
    "    df['ride_id'] = ride_ids\n",
    "    return df"
   ]
  },
  {
   "cell_type": "code",
   "execution_count": 5,
   "id": "d5ed110e",
   "metadata": {},
   "outputs": [],
   "source": [
    "df = simulate_ride_data()"
   ]
  },
  {
   "cell_type": "code",
   "execution_count": 6,
   "id": "7acf4254",
   "metadata": {},
   "outputs": [
    {
     "data": {
      "text/html": [
       "<div>\n",
       "<style scoped>\n",
       "    .dataframe tbody tr th:only-of-type {\n",
       "        vertical-align: middle;\n",
       "    }\n",
       "\n",
       "    .dataframe tbody tr th {\n",
       "        vertical-align: top;\n",
       "    }\n",
       "\n",
       "    .dataframe thead th {\n",
       "        text-align: right;\n",
       "    }\n",
       "</style>\n",
       "<table border=\"1\" class=\"dataframe\">\n",
       "  <thead>\n",
       "    <tr style=\"text-align: right;\">\n",
       "      <th></th>\n",
       "      <th>ride_dist</th>\n",
       "      <th>ride_time</th>\n",
       "      <th>ride_speed</th>\n",
       "      <th>ride_id</th>\n",
       "    </tr>\n",
       "  </thead>\n",
       "  <tbody>\n",
       "    <tr>\n",
       "      <th>0</th>\n",
       "      <td>2.260819</td>\n",
       "      <td>0.087410</td>\n",
       "      <td>25.864478</td>\n",
       "      <td>202202120</td>\n",
       "    </tr>\n",
       "    <tr>\n",
       "      <th>1</th>\n",
       "      <td>7.293871</td>\n",
       "      <td>0.258686</td>\n",
       "      <td>28.195874</td>\n",
       "      <td>202202121</td>\n",
       "    </tr>\n",
       "    <tr>\n",
       "      <th>2</th>\n",
       "      <td>0.032260</td>\n",
       "      <td>0.000982</td>\n",
       "      <td>32.843216</td>\n",
       "      <td>202202122</td>\n",
       "    </tr>\n",
       "    <tr>\n",
       "      <th>3</th>\n",
       "      <td>1.081694</td>\n",
       "      <td>0.030223</td>\n",
       "      <td>35.790998</td>\n",
       "      <td>202202123</td>\n",
       "    </tr>\n",
       "    <tr>\n",
       "      <th>4</th>\n",
       "      <td>7.071081</td>\n",
       "      <td>0.245543</td>\n",
       "      <td>28.797753</td>\n",
       "      <td>202202124</td>\n",
       "    </tr>\n",
       "  </tbody>\n",
       "</table>\n",
       "</div>"
      ],
      "text/plain": [
       "   ride_dist  ride_time  ride_speed    ride_id\n",
       "0   2.260819   0.087410   25.864478  202202120\n",
       "1   7.293871   0.258686   28.195874  202202121\n",
       "2   0.032260   0.000982   32.843216  202202122\n",
       "3   1.081694   0.030223   35.790998  202202123\n",
       "4   7.071081   0.245543   28.797753  202202124"
      ]
     },
     "execution_count": 6,
     "metadata": {},
     "output_type": "execute_result"
    }
   ],
   "source": [
    "df.head()"
   ]
  },
  {
   "cell_type": "code",
   "execution_count": 7,
   "id": "9cb8122e",
   "metadata": {},
   "outputs": [],
   "source": [
    "from sklearn.preprocessing import StandardScaler\n",
    "from sklearn.cluster import DBSCAN\n",
    "from sklearn import metrics\n",
    "\n",
    "\n",
    "def cluster_and_label(data, create_and_show_plot=True):\n",
    "    data = StandardScaler().fit_transform(data)\n",
    "    db = DBSCAN(eps=0.3, min_samples=10).fit(data)\n",
    "    \n",
    "    core_samples_mask = np.zeros_like(db.labels_, dtype=bool)\n",
    "    core_samples_mask[db.core_sample_indices_] = True\n",
    "    labels = db.labels_\n",
    "    \n",
    "    n_clusters_ = len(set(labels)) - (1 if -1 in labels else 0)\n",
    "    n_noise_ = list(labels).count(-1)\n",
    "    \n",
    "    run_metadata = {\n",
    "        'nClusters': n_clusters_,\n",
    "        'nNoise': n_noise_,\n",
    "        'silhouetteCoefficient': metrics.silhouette_score(data, labels),\n",
    "        'labels': labels,\n",
    "    }\n",
    "    if create_and_show_plot == True:\n",
    "        fig = plt.figure(figsize=(10,10))\n",
    "        unique_labels = set(labels)\n",
    "        colors = [plt.cm.cool(each)\n",
    "                  for each in np.linspace(0, 1, len(unique_labels))]\n",
    "        for k, col in zip(unique_labels, colors):\n",
    "            if k == -1:\n",
    "                col = [0,0,0,1]\n",
    "            class_member_mask = (labels==k)\n",
    "            xy = X[class_member_mask & core_samples_mask]\n",
    "            plt.plot(xy.iloc[:,0], xy.iloc[:,1], 'o', markerfacecolor=tuple(col),\n",
    "                     markeredgecolor='k', markersize=14)\n",
    "            xy = X[class_member_mask & ~core_samples_mask]\n",
    "            plt.plot(xy.iloc[:,0], xy.iloc[:,1], '^', markerfacecolor=tuple(col),\n",
    "                     markeredgecolor='k', markersize=14)\n",
    "            \n",
    "        plt.xlabel('Standard Scaled Ride Dist.')\n",
    "        plt.ylabel('Standard Scaled Ride Time')\n",
    "        plt.title('Estimated number of clusters: %d' % n_clusters_)\n",
    "        plt.show()\n",
    "    else:\n",
    "        pass\n",
    "    return run_metadata"
   ]
  },
  {
   "cell_type": "code",
   "execution_count": 8,
   "id": "16f32554",
   "metadata": {},
   "outputs": [
    {
     "data": {
      "image/png": "[encoded data removed]",
      "text/plain": [
       "<Figure size 720x720 with 1 Axes>"
      ]
     },
     "metadata": {
      "needs_background": "light"
     },
     "output_type": "display_data"
    }
   ],
   "source": [
    "X = df[['ride_dist', 'ride_time']]\n",
    "results = cluster_and_label(X)\n",
    "df['label'] = results['labels']"
   ]
  },
  {
   "cell_type": "code",
   "execution_count": 9,
   "id": "587a1062",
   "metadata": {},
   "outputs": [
    {
     "data": {
      "text/plain": [
       "<AxesSubplot:>"
      ]
     },
     "execution_count": 9,
     "metadata": {},
     "output_type": "execute_result"
    },
    {
     "data": {
      "image/png": "[encoded data removed]",
      "text/plain": [
       "<Figure size 432x288 with 1 Axes>"
      ]
     },
     "metadata": {
      "needs_background": "light"
     },
     "output_type": "display_data"
    }
   ],
   "source": [
    "(df['ride_time']*60).hist()"
   ]
  },
  {
   "cell_type": "code",
   "execution_count": 10,
   "id": "6defcd20",
   "metadata": {},
   "outputs": [
    {
     "data": {
      "text/plain": [
       "<AxesSubplot:>"
      ]
     },
     "execution_count": 10,
     "metadata": {},
     "output_type": "execute_result"
    },
    {
     "data": {
      "image/png": "[encoded data removed]",
      "text/plain": [
       "<Figure size 432x288 with 1 Axes>"
      ]
     },
     "metadata": {
      "needs_background": "light"
     },
     "output_type": "display_data"
    }
   ],
   "source": [
    "df['ride_dist'].hist()"
   ]
  },
  {
   "cell_type": "code",
   "execution_count": 11,
   "id": "eb68668a",
   "metadata": {},
   "outputs": [
    {
     "data": {
      "text/plain": [
       "<AxesSubplot:>"
      ]
     },
     "execution_count": 11,
     "metadata": {},
     "output_type": "execute_result"
    },
    {
     "data": {
      "image/png": "[encoded data removed]",
      "text/plain": [
       "<Figure size 432x288 with 1 Axes>"
      ]
     },
     "metadata": {
      "needs_background": "light"
     },
     "output_type": "display_data"
    }
   ],
   "source": [
    "df['ride_speed'].hist()"
   ]
  },
  {
   "cell_type": "code",
   "execution_count": 12,
   "id": "f2f09d7a",
   "metadata": {},
   "outputs": [
    {
     "data": {
      "text/plain": [
       "<AxesSubplot:xlabel='ride_dist', ylabel='ride_time'>"
      ]
     },
     "execution_count": 12,
     "metadata": {},
     "output_type": "execute_result"
    },
    {
     "data": {
      "image/png": "[encoded data removed]",
      "text/plain": [
       "<Figure size 432x288 with 1 Axes>"
      ]
     },
     "metadata": {
      "needs_background": "light"
     },
     "output_type": "display_data"
    }
   ],
   "source": [
    "df.plot(x='ride_dist', y='ride_time', kind='scatter')"
   ]
  },
  {
   "cell_type": "code",
   "execution_count": 19,
   "id": "7083d412",
   "metadata": {},
   "outputs": [],
   "source": [
    "df.to_json('./output/labels.json', orient='records')"
   ]
  },
  {
   "cell_type": "code",
   "execution_count": 20,
   "id": "837be727",
   "metadata": {},
   "outputs": [
    {
     "data": {
      "text/plain": [
       "'[{\"ride_dist\":9.8631210611,\"ride_time\":0.6950716,\"ride_speed\":14.1900792097,\"ride_id\":\"20220212102\",\"label\":-1},{\"ride_dist\":9.8434901604,\"ride_time\":0.541738141,\"ride_speed\":18.170199615,\"ride_id\":\"20220212249\",\"label\":-1},{\"ride_dist\":9.699789327,\"ride_time\":0.6232849363,\"ride_speed\":15.5623676462,\"ride_id\":\"20220212357\",\"label\":-1},{\"ride_dist\":9.5406980817,\"ride_time\":0.4560903182,\"ride_speed\":20.9184402777,\"ride_id\":\"20220212360\",\"label\":-1},{\"ride_dist\":18.622378151,\"ride_time\":0.6740788246,\"ride_speed\":27.6264102525,\"ride_id\":\"20220212370\",\"label\":-1},{\"ride_dist\":25.7921091349,\"ride_time\":1.2418805171,\"ride_speed\":20.7685914875,\"ride_id\":\"20220212371\",\"label\":-1},{\"ride_dist\":11.2905738415,\"ride_time\":0.3707513212,\"ride_speed\":30.4532261854,\"ride_id\":\"20220212373\",\"label\":-1},{\"ride_dist\":25.6372093294,\"ride_time\":0.9482888001,\"ride_speed\":27.0352337034,\"ride_id\":\"20220212374\",\"label\":-1},{\"ride_dist\":24.3263388186,\"ride_time\":0.8461043489,\"ride_speed\":28.7509913542,\"ride_id\":\"20220212375\",\"label\":-1},{\"ride_dist\":28.0014681164,\"ride_time\":0.7468462606,\"ride_speed\":37.4929481375,\"ride_id\":\"20220212376\",\"label\":-1},{\"ride_dist\":20.8511341534,\"ride_time\":0.5617372387,\"ride_speed\":37.1190170715,\"ride_id\":\"20220212378\",\"label\":-1},{\"ride_dist\":23.6275715373,\"ride_time\":0.8806281802,\"ride_speed\":26.8303604941,\"ride_id\":\"20220212379\",\"label\":-1},{\"ride_dist\":8.6922193982,\"ride_time\":0.1646717873,\"ride_speed\":52.785116007,\"ride_id\":\"20220212388\",\"label\":-1},{\"ride_dist\":9.8682585853,\"ride_time\":0.7857931078,\"ride_speed\":12.558341995,\"ride_id\":\"20220212391\",\"label\":-1},{\"ride_dist\":6.6276616655,\"ride_time\":0.4265789002,\"ride_speed\":15.5367779841,\"ride_id\":\"20220212392\",\"label\":-1},{\"ride_dist\":8.6154202978,\"ride_time\":0.5143870059,\"ride_speed\":16.7489073367,\"ride_id\":\"20220212393\",\"label\":-1},{\"ride_dist\":9.7204069999,\"ride_time\":0.527848475,\"ride_speed\":18.4151465046,\"ride_id\":\"20220212394\",\"label\":-1},{\"ride_dist\":9.6289775065,\"ride_time\":0.4824353837,\"ride_speed\":19.9591029824,\"ride_id\":\"20220212395\",\"label\":-1},{\"ride_dist\":9.3633854641,\"ride_time\":0.5333785059,\"ride_speed\":17.5548608731,\"ride_id\":\"20220212397\",\"label\":-1},{\"ride_dist\":7.5092268136,\"ride_time\":0.4231417522,\"ride_speed\":17.74636224,\"ride_id\":\"20220212399\",\"label\":-1}]'"
      ]
     },
     "execution_count": 20,
     "metadata": {},
     "output_type": "execute_result"
    }
   ],
   "source": [
    "df[df['label']==-1].to_json(orient='records')"
   ]
  },
  {
   "cell_type": "code",
   "execution_count": null,
   "id": "40a2b3dd",
   "metadata": {},
   "outputs": [],
   "source": []
  }
 ],
 "metadata": {
  "kernelspec": {
   "display_name": "Python 3 (ipykernel)",
   "language": "python",
   "name": "python3"
  },
  "language_info": {
   "codemirror_mode": {
    "name": "ipython",
    "version": 3
   },
   "file_extension": ".py",
   "mimetype": "text/x-python",
   "name": "python",
   "nbconvert_exporter": "python",
   "pygments_lexer": "ipython3",
   "version": "3.8.0"
  }
 },
 "nbformat": 4,
 "nbformat_minor": 5
}
